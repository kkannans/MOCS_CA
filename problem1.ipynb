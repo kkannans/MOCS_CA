{
 "cells": [
  {
   "cell_type": "code",
   "execution_count": 18,
   "metadata": {},
   "outputs": [],
   "source": [
    "import numpy as np\n",
    "import random\n",
    "import math\n",
    "import matplotlib.pyplot as plt\n",
    "from matplotlib import cm\n",
    "from IPython import display\n",
    "import itertools\n",
    "from time import sleep"
   ]
  },
  {
   "cell_type": "code",
   "execution_count": 38,
   "metadata": {},
   "outputs": [],
   "source": [
    "# CA\n",
    "class CA:\n",
    "    def __init__(self, x,y):\n",
    "        self.grid = np.zeros((x,y))\n",
    "        self.history = []\n",
    "        self.x = x\n",
    "        self.y = y\n",
    "        \n",
    "    def initialize_grid(self, per_cancer, num_alive):\n",
    "        all_locations = ([tuple(x) for x in itertools.combinations_with_replacement(np.arange(10), 2)])\n",
    "        num_cancer = math.floor(per_cancer*num_alive)\n",
    "        assert (num_cancer + num_alive) < self.x*self.y\n",
    "        cell_locations = random.sample(range(len(all_locations)),num_alive + num_cancer)\n",
    "        cancer_locations = random.sample(cell_locations, num_cancer)\n",
    "        self.grid[:][:] = 0 # empty\n",
    "        for cell_location in cell_locations:\n",
    "            self.grid[all_locations[cell_location][0], all_locations[cell_location][1]] = 1\n",
    "        for cancer_location in cancer_locations:\n",
    "            self.grid[all_locations[cancer_location][0], all_locations[cancer_location][1]] = 2\n",
    "      \n",
    "    def rule_set(self):\n",
    "        return None\n",
    "    \n",
    "    def get_neighbours(self, grid_position, moore_neighborhood = True):\n",
    "        neighbours = []\n",
    "        i,j = grid_position\n",
    "        if moore_neighborhood:\n",
    "            neighbours.append(self.grid[i][j + self.])\n",
    "                \n",
    "    def print_grid(self):\n",
    "            print(self.grid)"
   ]
  },
  {
   "cell_type": "code",
   "execution_count": 39,
   "metadata": {},
   "outputs": [
    {
     "name": "stdout",
     "output_type": "stream",
     "text": [
      "[[1. 1. 0. 0. 0. 0. 0. 0. 0. 0.]\n",
      " [0. 0. 0. 1. 2. 1. 0. 0. 0. 0.]\n",
      " [0. 0. 0. 0. 0. 1. 0. 0. 0. 0.]\n",
      " [0. 0. 0. 0. 0. 0. 0. 0. 0. 0.]\n",
      " [0. 0. 0. 0. 0. 0. 1. 1. 0. 0.]\n",
      " [0. 0. 0. 0. 0. 0. 0. 0. 1. 0.]\n",
      " [0. 0. 0. 0. 0. 0. 0. 0. 0. 0.]\n",
      " [0. 0. 0. 0. 0. 0. 0. 0. 0. 0.]\n",
      " [0. 0. 0. 0. 0. 0. 0. 0. 1. 0.]\n",
      " [0. 0. 0. 0. 0. 0. 0. 0. 0. 1.]]\n"
     ]
    }
   ],
   "source": [
    "ca = CA(10,10)\n",
    "per_cancer = 0.1 # percentage of alive cells\n",
    "n_alive = 10\n",
    "ca.initialize_grid(per_cancer, n_alive)\n",
    "ca.print_grid()"
   ]
  },
  {
   "cell_type": "code",
   "execution_count": null,
   "metadata": {},
   "outputs": [],
   "source": []
  }
 ],
 "metadata": {
  "kernelspec": {
   "display_name": "Python 3",
   "language": "python",
   "name": "python3"
  },
  "language_info": {
   "codemirror_mode": {
    "name": "ipython",
    "version": 3
   },
   "file_extension": ".py",
   "mimetype": "text/x-python",
   "name": "python",
   "nbconvert_exporter": "python",
   "pygments_lexer": "ipython3",
   "version": "3.8.5"
  }
 },
 "nbformat": 4,
 "nbformat_minor": 4
}
