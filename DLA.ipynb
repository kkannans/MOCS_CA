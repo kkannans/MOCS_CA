{
 "cells": [
  {
   "cell_type": "code",
   "execution_count": 10,
   "metadata": {},
   "outputs": [],
   "source": [
    "import numpy as np\n",
    "import random\n",
    "import matplotlib.pyplot as plt\n",
    "from matplotlib import cm\n",
    "from IPython import display\n",
    "import itertools\n",
    "from time import sleep"
   ]
  },
  {
   "cell_type": "code",
   "execution_count": 95,
   "metadata": {},
   "outputs": [
    {
     "name": "stdout",
     "output_type": "stream",
     "text": [
      "[50, 33, 4, 47, 16, 43, 48, 27, 5, 54, 35, 18, 42, 20, 34, 30, 8, 38, 11, 9, 14, 45, 22, 29, 46, 7, 0, 1, 51, 21, 28, 17, 32, 10, 3, 37, 15, 39, 19, 2, 24, 6, 44, 52, 41, 23, 26, 31, 53, 49, 40, 12, 13, 36, 25]\n"
     ]
    }
   ],
   "source": [
    "c = ([tuple(x) for x in itertools.combinations_with_replacement(np.arange(10), 2)])\n",
    "d = random.sample(range(len(c)),len(c))\n",
    "print(d)"
   ]
  },
  {
   "cell_type": "code",
   "execution_count": 118,
   "metadata": {},
   "outputs": [],
   "source": [
    "# DLA\n",
    "class DLA:\n",
    "    def __init__(self, x,y):\n",
    "        self.grid = np.zeros((x,y))\n",
    "        self.particle_positions = []\n",
    "        self.history = []\n",
    "        self.seed_positions = []\n",
    "        self.x = x\n",
    "        self.y = y\n",
    "        \n",
    "    def initialize_grid(self, num_particles):\n",
    "        c = ([tuple(x) for x in itertools.combinations_with_replacement(np.arange(10), 2)])\n",
    "        d = random.sample(range(len(c)),num_particles)\n",
    "        for i in d:\n",
    "            self.grid[c[i][0],c[i][1]] = 1 # particles\n",
    "            self.particle_positions.append((c[i][0],c[i][1]))\n",
    "        self.grid[self.x//2][self.y//2] = 2 # seed\n",
    "        self.seed_positions.append((self.x//2, self.y//2))\n",
    "        \n",
    "    def grow_particles(self):\n",
    "        new_positions = []\n",
    "        for position in self.particle_positions:\n",
    "            (i,j) = position\n",
    "            die = random.uniform(0,1)\n",
    "            if die < 0.25: # go right\n",
    "                new_position = (i, (j+1)%self.y)\n",
    "            elif die < 0.5: # go bottom\n",
    "                new_position = ((i-1)%self.x, j)\n",
    "            elif die < 0.75: # go left\n",
    "                new_position = (i, (j-1)%self.y)\n",
    "            else: # go top\n",
    "                new_position = ((i+1)%self.x, j)\n",
    "            self.grid[new_position[0]][new_position[1]] = 1\n",
    "            new_positions.append(new_position)\n",
    "        return new_positions\n",
    "    \n",
    "    def convert_particles_to_seeds(self, radius):\n",
    "        for position in self.seed_positions:\n",
    "            i, j = position\n",
    "            if self.grid[i][(j+radius)%self.y] == 1:\n",
    "                self.grid[i][(j+radius)%self.y] = 2\n",
    "            elif self.grid[i][(j-radius)%self.y] == 1:\n",
    "                self.grid[i][(j-radius)%self.y] = 2\n",
    "            elif self.grid[(i-radius)%self.x][j] == 1:\n",
    "                self.grid[(i-radius)%self.x][j] = 2\n",
    "            elif self.grid[(i+radius)%self.x][j] == 1:\n",
    "                self.grid[(i+radius)%self.x][j] = 2\n",
    "                \n",
    "    def run_dla(self, steps, radius):\n",
    "        self.grow_particles()\n",
    "        self.convert_particles_to_seeds(radius)\n",
    "        \n",
    "    def print_grid(self):\n",
    "            print(self.grid)"
   ]
  },
  {
   "cell_type": "code",
   "execution_count": 120,
   "metadata": {},
   "outputs": [
    {
     "name": "stdout",
     "output_type": "stream",
     "text": [
      "[[0. 0. 1. 0. 0. 0. 0. 0. 0. 0.]\n",
      " [0. 0. 1. 0. 0. 0. 0. 0. 0. 0.]\n",
      " [0. 0. 0. 0. 0. 0. 1. 0. 0. 1.]\n",
      " [0. 0. 0. 0. 0. 0. 1. 0. 0. 1.]\n",
      " [0. 0. 0. 0. 1. 0. 1. 0. 1. 1.]\n",
      " [0. 0. 0. 0. 0. 2. 0. 0. 0. 0.]\n",
      " [0. 0. 0. 0. 0. 0. 0. 0. 0. 0.]\n",
      " [0. 0. 0. 0. 0. 0. 0. 0. 0. 0.]\n",
      " [0. 0. 0. 0. 0. 0. 0. 0. 0. 0.]\n",
      " [0. 0. 0. 0. 0. 0. 0. 0. 0. 0.]]\n",
      "[[0. 0. 1. 0. 0. 0. 0. 0. 0. 0.]\n",
      " [0. 0. 1. 1. 0. 0. 1. 0. 0. 0.]\n",
      " [0. 0. 0. 0. 0. 0. 1. 0. 1. 1.]\n",
      " [1. 0. 0. 0. 0. 1. 1. 0. 0. 1.]\n",
      " [0. 0. 0. 1. 1. 0. 1. 1. 1. 1.]\n",
      " [0. 0. 0. 0. 0. 2. 2. 0. 0. 0.]\n",
      " [0. 0. 0. 0. 0. 0. 0. 0. 0. 0.]\n",
      " [0. 0. 0. 0. 0. 0. 0. 0. 0. 0.]\n",
      " [0. 0. 0. 0. 0. 0. 0. 0. 0. 0.]\n",
      " [0. 0. 1. 0. 0. 0. 0. 0. 0. 0.]]\n"
     ]
    }
   ],
   "source": [
    "dla = DLA(10,10)\n",
    "dla.initialize_grid(10)\n",
    "dla.print_grid()\n",
    "dla.run_dla(10000, 1)\n",
    "dla.print_grid()"
   ]
  },
  {
   "cell_type": "code",
   "execution_count": null,
   "metadata": {},
   "outputs": [],
   "source": []
  }
 ],
 "metadata": {
  "kernelspec": {
   "display_name": "Python 3",
   "language": "python",
   "name": "python3"
  },
  "language_info": {
   "codemirror_mode": {
    "name": "ipython",
    "version": 3
   },
   "file_extension": ".py",
   "mimetype": "text/x-python",
   "name": "python",
   "nbconvert_exporter": "python",
   "pygments_lexer": "ipython3",
   "version": "3.8.5"
  }
 },
 "nbformat": 4,
 "nbformat_minor": 4
}
